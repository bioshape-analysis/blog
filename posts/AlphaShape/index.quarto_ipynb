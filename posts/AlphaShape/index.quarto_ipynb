{
  "cells": [
    {
      "cell_type": "markdown",
      "metadata": {},
      "source": [
        "---\n",
        "title: \"Alpha Shapes in 2D and 3D\"\n",
        "date: \"August 14 2024\"\n",
        "jupyter: python3\n",
        "author:\n",
        "  - name: \"Wenjun Zhao\" \n",
        "categories: [theory]\n",
        "---\n",
        "\n",
        "\n",
        "\n",
        "\n",
        "\n",
        "## Introduction\n",
        "\n",
        "Alpha shapes are a generalization of the convex hull used in computational geometry. They are particularly useful for understanding the shape of a point cloud in both 2D and 3D spaces. In this document, we will explore alpha shapes in both dimensions using Python.\n",
        "\n",
        "## 2D Alpha Shape\n",
        "\n",
        "To illustrate alpha shapes in 2D, we'll use the `alphashape` library. Let's start by generating a set of random points and compute their alpha shape.\n",
        "\n",
        "First we create point cloud points:\n"
      ],
      "id": "6d739649"
    },
    {
      "cell_type": "code",
      "metadata": {},
      "source": [
        "import numpy as np\n",
        "import matplotlib.pyplot as plt\n",
        "import alphashape\n",
        "\n",
        "def generate_flower_shape(num_petals, num_points_per_petal):\n",
        "    angles = np.linspace(0, 2 * np.pi, num_points_per_petal, endpoint=False)\n",
        "    r = 1 + 0.5 * np.sin(num_petals * angles)\n",
        "    \n",
        "    x = r* np.cos(angles)\n",
        "    \n",
        "    y = r * np.sin(angles)\n",
        "    \n",
        "    return np.column_stack((x, y))\n",
        "\n",
        "def generate_random_points_in_bounds(num_points, x_bounds, y_bounds):\n",
        "    x = np.random.uniform(x_bounds[0], x_bounds[1], num_points)\n",
        "    y = np.random.uniform(y_bounds[0], y_bounds[1], num_points)\n",
        "    return np.column_stack((x, y))\n",
        "\n",
        "def is_point_inside_polygon(point, polygon):\n",
        "    path = Path(polygon)\n",
        "    return path.contains_point(point)\n",
        "\n",
        "plt.figure(figsize=(8, 6))\n",
        "points = generate_flower_shape(num_petals=6, num_points_per_petal=100)\n",
        "plt.scatter(points[:, 0], points[:, 1], s=10, color='blue', label='Points')"
      ],
      "id": "26d39ebf",
      "execution_count": null,
      "outputs": []
    },
    {
      "cell_type": "markdown",
      "metadata": {},
      "source": [
        "Try run this with alpha shape radius 0.1:\n"
      ],
      "id": "6a58eea8"
    },
    {
      "cell_type": "code",
      "metadata": {},
      "source": [
        "import numpy as np\n",
        "import matplotlib.pyplot as plt\n",
        "import alphashape\n",
        "\n",
        "# Generate random points\n",
        "np.random.seed(0)\n",
        "points = generate_flower_shape(num_petals=5, num_points_per_petal=200)\n",
        "# Create alpha shape\n",
        "alpha = 0.1\n",
        "alpha_shape = alphashape.alphashape(points, alpha)\n",
        "\n",
        "# Plot points and alpha shape\n",
        "plt.figure(figsize=(8, 6))\n",
        "plt.scatter(points[:, 0], points[:, 1], s=10, color='blue', label='Points')\n",
        "plt.plot(*alpha_shape.exterior.xy, color='red', lw=2, label='Alpha Shape')\n",
        "plt.title('2D Alpha Shape')\n",
        "plt.xlabel('X')\n",
        "plt.ylabel('Y')\n",
        "plt.legend()~\n",
        "plt.grid(True)\n",
        "plt.show()"
      ],
      "id": "728adf38",
      "execution_count": null,
      "outputs": []
    },
    {
      "cell_type": "markdown",
      "metadata": {},
      "source": [
        "Oops, it seems the radius we picked is too big! Let's try a few other choices.\n"
      ],
      "id": "28dead7c"
    },
    {
      "cell_type": "code",
      "metadata": {},
      "source": [
        "alpha_values = [0.1, 1.0, 3.0, 10.0]\n",
        "# Plot the flower shape and alpha shapes with varying alpha values\n",
        "fig, axes = plt.subplots(2, 2, figsize=(6,6))\n",
        "axes = axes.flatten()\n",
        "\n",
        "for i, alpha in enumerate(alpha_values):\n",
        "    # Compute alpha shape\n",
        "    alpha_shape = alphashape.alphashape(points, alpha)\n",
        "    \n",
        "    # Plot the points and the alpha shape\n",
        "    ax = axes[i]\n",
        "    #print(alpha_shape.type)\n",
        "    if alpha_shape.type == 'Polygon':\n",
        "        ax.plot(*alpha_shape.exterior.xy, color='red', lw=2, label='Alpha Shape')\n",
        "    ax.scatter(points[:, 0], points[:, 1], color='orange', s=10, label='Point Cloud')\n",
        "    \n",
        "    \n",
        "    \n",
        "    ax.set_title(f'Alpha Shape with alpha={alpha}')\n",
        "    ax.legend()\n",
        "    ax.grid(True)\n",
        "\n",
        "plt.tight_layout()\n",
        "plt.show()"
      ],
      "id": "05837c12",
      "execution_count": null,
      "outputs": []
    }
  ],
  "metadata": {
    "kernelspec": {
      "name": "python3",
      "language": "python",
      "display_name": "Python 3 (ipykernel)",
      "path": "/Users/wenjunzhao/opt/anaconda3/share/jupyter/kernels/python3"
    }
  },
  "nbformat": 4,
  "nbformat_minor": 5
}