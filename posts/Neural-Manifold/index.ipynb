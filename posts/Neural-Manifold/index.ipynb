{
  "cells": [
    {
      "cell_type": "markdown",
      "metadata": {},
      "source": [
        "---\n",
        "title: \"Neural Manifold\"\n",
        "jupyter: python3\n",
        "\n",
        "author:\n",
        "  - name: \"Deven Shidfar\" \n",
        "    email: \"devenshidfar@math.ubc.ca\"\n",
        "    affiliations:\n",
        "      - name: KDD Group\n",
        "        url: \"https://rtviii.xyz/\"\n",
        "\n",
        "  - name: \"Khanh Dao Duc\" \n",
        "    email: \"kdd@math.ubc.ca\"\n",
        "    affiliations:\n",
        "      - name: Department of Mathematics, UBC\n",
        "        url: \"https://www.math.ubc.ca/\"\n",
        "      - name: Department of Computer Science, UBC\n",
        "        url: \"https://www.cs.ubc.ca/\"\n",
        "\n",
        "date: \"September 18 2024\"\n",
        "categories: [biology, bioinformatics, mathematics, biomedical engineering, neuroscience]    \n",
        "\n",
        "callout-icon: false\n",
        "format:\n",
        "  html:\n",
        "    code-fold: true\n",
        "bibliography: bibliography.bib\n",
        "\n",
        "execute:\n",
        "  echo: true\n",
        "  freeze: auto\n",
        "  warning: false\n",
        "\n",
        "---\n",
        "\n",
        "## Cebra's Persistent Cohomology\n",
        "\n",
        "The following is some basic Python code:"
      ]
    },
    {
      "cell_type": "code",
      "metadata": {},
      "source": [
        "print(\"This is a python test\")"
      ],
      "execution_count": null,
      "outputs": []
    }
  ],
  "metadata": {
    "kernelspec": {
      "name": "python3",
      "language": "python",
      "display_name": "Python 3 (ipykernel)",
      "path": "/opt/anaconda3/share/jupyter/kernels/python3"
    }
  },
  "nbformat": 4,
  "nbformat_minor": 4
}