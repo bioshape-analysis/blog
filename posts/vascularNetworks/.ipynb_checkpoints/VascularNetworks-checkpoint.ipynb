{
 "cells": [
  {
   "cell_type": "raw",
   "id": "683d2f78-2a94-4988-acc8-a3444522edc9",
   "metadata": {},
   "source": [
    "---\n",
    "title: \"Vascular Networks\"\n",
    "author: \"Ali Fele Paranj\"\n",
    "date: \"November 5 2024\"\n",
    "categories: [MATH 612]\n",
    "bibliography: references.bib\n",
    "---"
   ]
  },
  {
   "cell_type": "markdown",
   "id": "637dc720-8a97-46cb-986b-e240a88f0b7d",
   "metadata": {},
   "source": [
    "## Abstract\n",
    "I have introduced some basic concepts of micro-circulation and the vascular networks and how they get created (angiogenesis) in health and disease. Then I discuss some angiogenesis models (Anderson-Chaplain as well as BARW) and use the tools of the geomstats to analyze the loopy structure in these networks. I explained the characteristics of the loopy structures in the networks in terms of the parameters of the model. Furthermore, I consider the time evolution of the graphs created by these networks and how the characterization of the loopy structures change through time in these networks."
   ]
  },
  {
   "cell_type": "markdown",
   "id": "cf9a4a1c-1f0a-45f9-af4f-ae30efcee890",
   "metadata": {},
   "source": [
    "## Introduction"
   ]
  },
  {
   "cell_type": "markdown",
   "id": "5c752ca0-fba7-4d58-beb4-f08d17d7dc13",
   "metadata": {},
   "source": [
    "Vascular network in animals is a complex network of vessels to carry the nutrients to and wastes out from the tissue. Main parts of the blood circulation system is determined during the embryo development (like the location and characterization of the main veins and arteries). However, the exact positioning and hierarchy of the capillary networks is not predetermined genetically, but is an adaptive process. A tissue under hypoxia (experiencing low oxygen) will initiate biochemical signals to recruit new vessels. One of the main signaling molecules is the tumor angiogenic factor (TAF) and as the name suggests it is highly expressed by tumor under oxygen stress (hypoxia). The TAF molecules will diffuse in the interstitial space. Upon interaction with pre-existing vessels, they will digest through the basal membrane of the pre-existing vessels and will activate the endothelial cells (that are lining the inner part lumen of all vessels in the body). The endothelial cells activated by TAF will turn into tip cells which will move up in the gradient of TAF, and they will make branches of vessels which will grow as the tip cells are moving. See figure below for details."
   ]
  },
  {
   "cell_type": "markdown",
   "id": "38259f5c-e17c-4489-b165-61128f37b56e",
   "metadata": {},
   "source": [
    "\n",
    "![Steps of angiogenesis process. The endothelial cells are \"activated\" by the TAF molecules and turn into tip cells that move towards the source of TAF (up the gradient) and produce new blood vessel segments along their way. This is called tip-induced angiogenesis. This figure is taken from [@Atale2020]](images/Angiogenesis.png){width=60%}\n"
   ]
  },
  {
   "cell_type": "markdown",
   "id": "96403519-ee11-45ca-8f63-0816dc457885",
   "metadata": {},
   "source": [
    "There are also other factors important in the process of tip cell movement among which is the concentration of fibronectin in the environment. Fibronectin is a protein that acts like a glue and attaches the cells to intracellular matrix, which mediates the cell movement. In the section related to the angiogenesis models we will discuss how this protein is considered in the models."
   ]
  },
  {
   "cell_type": "markdown",
   "id": "c418cf59-8b3d-4792-91d6-db2c36acf075",
   "metadata": {},
   "source": [
    "## Anderson-Chaplain Model of Angiogenesis"
   ]
  },
  {
   "cell_type": "markdown",
   "id": "db04f88b-25a4-482d-b062-3de44f34fd65",
   "metadata": {},
   "source": [
    "Anderson-Chaplain model of angiogenesis \\cite{Anderson1998} describes the angiogenesis process considering the factors like TAF and fibronectin. This model contains three variables\n",
    "$\\newcommand{\\R}{\\mathbb{R}}$\n",
    "$\\newcommand{\\abs}[1]{|#1|}$ \n",
    "\n",
    "* $n = n(X,t): \\Omega \\times \\R \\to \\R$: the endothelial-cell density (per unit area).\n",
    "* $c = c(X,t): \\Omega \\times \\R \\to \\R$: the tumor angiogenic factor (TAF) concentration (nmol per unit area).\n",
    "* $f = f(X,t): \\Omega \\times \\R \\to \\R$: the fibronectin concentration (nmol per unit area).\n",
    "  \n",
    "and the time evolution is governed by the following system of PDEs"
   ]
  },
  {
   "cell_type": "markdown",
   "id": "3aadfa90-6fbe-4946-9f84-0eb173791927",
   "metadata": {},
   "source": [
    "\\begin{align*}\n",
    "\t\t&\\frac{\\partial n}{\\partial t} =  D_n\\nabla^2 n  - \\nabla\\cdot(\\chi n\\nabla c) - \\nabla\\cdot(\\rho n \\nabla f), \\\\\n",
    "\t\t&\\frac{\\partial c}{\\partial t} = -\\lambda n c, \\\\\n",
    "\t\t&\\frac{\\partial f}{\\partial t} = \\omega n - \\mu n f,\n",
    "\t\\end{align*}"
   ]
  },
  {
   "cell_type": "markdown",
   "id": "59abe1de-231b-459f-b5b3-375a43cc866f",
   "metadata": {},
   "source": [
    "where $D_n$ is a diffusion constant taking the random movement of tip cells into account, $\\chi, \\rho$ reflects the strength of the chemotaxis of tip cells due to the gradient of TAF, and fibronectin respectively. Furthermore, $\\lambda, \\mu$ is the rate at which tip cells consume the TAF and fibronectin respectively, and $\\omega$ denotes the production of fibronectin by the tip cells. Note that we assume at the start of the angiogenesis process, we have a steady state distribution of fibronectin and TAF and is not diffusing. This assumption is not entirely true and can be enhanced."
   ]
  },
  {
   "cell_type": "markdown",
   "id": "e6a427c7-189e-42c8-844a-5a25275765dd",
   "metadata": {},
   "source": [
    "Here in this report, we will be using the discrete and stochastic variation of this model. For more detail see [@Anderson1998]. See figure below for some example outputs of the model."
   ]
  },
  {
   "cell_type": "markdown",
   "id": "4c974f74-ac03-4136-b3a2-768e8c11d3d5",
   "metadata": {},
   "source": [
    "\n",
    "![Some example output of the Anderson-Chaplain model of angiogenesis using the implementation of the model shared by [@Nardini2021]. We have assumed the source of TAF molecules is located at the right edge of the domain, while the pre-existing parent vessels is located at the left edge of the domain. The strength of the chemotaxis and haptotactic (due to fibronectin) signaling is set to be $\\chi = 0.4$, and $\\rho = 0.4$.](images/Anderson.png){width=60%,fig-align=\"left\",#fig:anderson}\n",
    "\n",
    "\n"
   ]
  },
  {
   "cell_type": "markdown",
   "id": "49e671ed-6694-4176-8886-0474f7620583",
   "metadata": {},
   "source": [
    "## Branching-Annihilating Random Walker\n",
    "The Anderson-Chaplain model of angiogenesis is not the only formulation of this phenomena. A popular alternative formulation is using the notion of branching annihilating random walkers for the to explain the branching morphogenesis of vascular networks. A very detailed discussion on this formulation can be found in [@Hannezo2017,@Ucar2021]. This formulation has been also successful to models a vast variety of tip-driven morphogenesis in mammary-glands, prostate, kidney [@Hannezo2017], lymphatic system [@Ucar2023], neural branching [@Ucar2021], and etc.\n",
    "\t\n",
    "The core idea behind this formulation is to assume that the tip cells undergo a branching-annihilating random walk, i.e. they move randomly in the space, turn into pairs randomly (branching), and as they move they produce new cells (stalk) behind their trails, and finally annihilate if they encounter any of the stalk cells. See figure below:"
   ]
  },
  {
   "cell_type": "markdown",
   "id": "b036fbe6-4a90-4131-a09b-2907b6d9e3e4",
   "metadata": {},
   "source": [
    "\n",
    "\n",
    "![The network generated by branching-annihilating process, where the tip cells (orange circles) are doing random walk (not necessarily unbiased random walk) and each generate two random walkers at random times (branching). The tip cells make the stalk cells (the blue lines) along their way and the tip cells annihilate when encounter any of the stalk cells.](images/BARW.png){width=50%,fig-align=\"center\",#BARW}\n",
    "\n"
   ]
  },
  {
   "cell_type": "markdown",
   "id": "34ab7e20-4aa1-4e5a-8571-535f3e99518d",
   "metadata": {},
   "source": [
    "## Data Pre-Processing\n",
    "The data generated by the Anderson-Chaplain model or BARW model are typically matrices (i.e. images) (however, there are certain ways to construct a graph representing the final structure during the simulation). To be able to do any form of computation with the simulated data (like finding the loops, etc) it is convenient to turn the images into a graph.\n",
    "\t\n",
    "For the outputs of the Anderson-Chaplain model , since the vessels are more crowded at some regions, we first did a dilation followed by a erosion (using OpenCV) to enhance the images for further processing. We then applied a connectivity-8 kernel to the enhanced images to find the nodes, and finally used the processes information to turn the vascular network in the image into a graph in python (using NetworkX library). See figure below for more details. We also applied the same processing pipeline on the data generated by the BARW model which is shown in the following figure"
   ]
  },
  {
   "cell_type": "markdown",
   "id": "f1e13e4a-22f8-4b29-9a61-50e3b055d555",
   "metadata": {},
   "source": [
    "\n",
    "\n",
    "![The loop detection processing pipeline performed on the data set generated by the BARW formulation of the branching morphogenesis. Right: the initial raw synthetic data, Left: detected loop through the loop detection pipeline.](images/BARWProc.png){width=50%, fig-align=\"center\"}\n",
    "\n"
   ]
  },
  {
   "cell_type": "markdown",
   "id": "49ef607d-c494-4fdd-b2d8-6f98b426e208",
   "metadata": {},
   "source": [
    "\n",
    "![fig-cap: The pre-processing pipeline the synthetic data by Anderson-Chaplain model. Top left: The synthetic data generated by the model. Top right: A series of dilation and erosion applied on the image to enhance the images for network extraction. Bottom left: Applying a connectivity-8 kernel on the image to get the nodes of the graph and converting the processed information to NetworkX graph data structure. Then we apply the cycle finding algorithm in the NetworkX to detect the cycles. Bottom right: The overlay of the detected cycles on the original image.](images/AndersonProc.png){width=50%,fig-align=\"center\"}\n"
   ]
  },
  {
   "cell_type": "markdown",
   "id": "51eb6cfb-275a-4fe6-be0a-8e2070a6e140",
   "metadata": {},
   "source": [
    "The new data structure that we store the synthetic data (i.e. as graphs in NetworkX) gives us a tremendous flexibility in working and analyzing the shape of each individual loops. See the following figure for further details on this. This data structure will also come in handy when we study the time evolution of the graphs."
   ]
  },
  {
   "cell_type": "markdown",
   "id": "a25f7530-9b44-471c-8fc4-9c5ba90449f0",
   "metadata": {},
   "source": [
    "\n",
    "\n",
    "![Converting the synthetic data from binary images to graph in NetworkX gives us a great flexibility in working and analyzing (or even evolving) individual loops. For instance, in the figures above, Left and Right sub-figures represent the individual scaled version of the loops of Anderson-Chaplain and BARW models respectively. Note that the shapes that looks more jagged correspond to the larger loops, whereas the loops with dull boundary correspond to the smaller loops.](images/loops.png){width=50%,fig-align=\"center\"}\n"
   ]
  },
  {
   "cell_type": "markdown",
   "id": "9e6ce76d-c876-4ddc-81f3-cc32ac5b499b",
   "metadata": {},
   "source": [
    "**Study Plan**: In this section we will use the notions of Kendall shape space to study the structure of the loops that appear under different parameters of the model."
   ]
  },
  {
   "cell_type": "markdown",
   "id": "0d4cf518-ee34-492b-ad32-7c3b8966d402",
   "metadata": {},
   "source": [
    "## Time Evolution Of Networks"
   ]
  },
  {
   "cell_type": "markdown",
   "id": "ca9cc283-bfc6-44eb-aace-82990ae746e3",
   "metadata": {},
   "source": [
    "Vascular networks are not static structure, but rather the evolve in time in response to the changing metabolic demand of the underlying tissue, as well as the metabolic cost of the network itself, and the overall energy required to pump the fluid through the network (See  [@Pries2010,Secomb2012,@Pries2014,Ouarne2021] for more discussion). To put this in different words, the role of vascular networks is to deliver nutrients to the tissue and remove the wastes. To do this, it needs to have a space filling configuration with lots of branches. However, due to the Poiseuille law for the flow of fluids in a tube, the power needed to pump the fluid through the tube scales with $r^{-4}$ where $r$ is the radius of the tube. I.e. smaller vessel segments needs a huge power to pump the blood through them. Thus have a massively branched structure is not an optimal solution. On the other hand, the vascular network consists of cells which requires maintenance as well. Thus the optimized vascular network should have a low volume as well. Because of these dynamics in action, in the angiogenesis process first a mesh of new blood vessels form which later evolve to a more ordered and hierarchical structure in a self-organization process."
   ]
  },
  {
   "cell_type": "markdown",
   "id": "b04b2843-013e-4644-a1ff-76588501f916",
   "metadata": {},
   "source": [
    "\n",
    "\n",
    "![Remodeling of vascular network of chick chorioallantoic membrane. Initially (sub-figure 1) a mesh of vascular networks form. Then (sub-figures 2,3,4), through the remodeling dynamics, a more ordered and hierarchical structure emerges. Images are taken from [@Richard2018].](images/remodeling2.png){width=50%,fig-align=\"center\"}\n",
    "\n",
    "\n"
   ]
  },
  {
   "cell_type": "markdown",
   "id": "cf2eb844-82eb-4805-9c8e-43fbbdef012a",
   "metadata": {},
   "source": [
    "To determine the time evolution of the vascular network we first need to formulate the problem in an appropriate way. First, we represent a given vascular network with a multi-weighted graph $G=(\\mathcal{V},\\mathcal{E})$ where $V$ is the set of vertices and $E$ is the edge set. We define the pressure $\\mathbf{P}$ on the nodes, the flow $ \\mathbf{Q} $ on the edges, and let $C_{i,j}, L_{i,j}$ denote the conductivity of an edge, and $L_{i,j}$ denote the length of the same edge. Given the source and sink terms on the nodes $ \\mathbf{q} $, the flow in the edges can be determined by\n",
    "\t$$\\mathcal{L} \\mathbf{P} = \\mathbf{q},$$\n",
    "\twhere $\\mathcal{L}$ is the Laplacian matrix of the graph. For more details on this see \\autoref{appndix}. Once we know the pressures on the nodes, we can easily calculate the flow through the edges by \n",
    "\t$$\\bf{Q} = \\bf{C} L^{-1} \\bf{\\Delta} \\bf{P}, \\tag{2}$$\n",
    "\twhere $C$ is a diagonal matrix of the conductance of the edges, $L$ is the diagonal matrix of the length of each edge, $ \\Delta $ is the transpose of the incidence matrix, and $ P $ is the pressure on the nodes. $Q$ is the flow of the edges. Once we know the flow in the edges, we can design evolution law to describe the time evolution of the weights of the edges (which by Poiseuille's is a function of the radius of the vessel segment). The evolution law can be derived by defining an energy functional and moving down the gradient of the energy functional to minimize it, or we can take an ad-hoc method and write a mechanistic ODE for time evolution of the conductances. For the energy functional one can write\n",
    "\t$$ E(\\mathbf{C}) = \\frac{1}{2} \\sum_{e\\in \\mathcal{E}}(\\frac{Q_e^2}{C_e} + \\nu C_e^\\gamma), $$\n",
    "\twhere $ \\mathcal{E} $ is the edge set of the graph, $ Q_e, C_e $ is the flow and conductance of the edge $ e $, and $ \\nu,\\gamma $ are parameters. The first term in the sum is of the form ``power=current$ \\times $potential'' and reflects the power required to pump the flow, and the second term can be shown that reflects the volume of the total network. We can set\n",
    "\t$$ \\frac{d \\mathbf{C}}{dt} = -\\nabla E, $$\n",
    "\twhich determines the time evolution of the weights in a direction that reduces the total energy. The steady-state solution of this ODE system is precisely the Euler-Lagrange formulation of the least action principle. Alternatively, one can come up with carefully designed ODEs for the time evolution of the conductances that represents certain biological facts. In particular\n",
    "\t$$ \\frac{d C_e}{dt} = \\alpha |Q_e|^{2\\sigma} - b C_e + g $$\n",
    "\tproposed by \\cite{Ronellenfitsch2016}, and \n",
    "\t$$ \\frac{d}{dt} \\sqrt{C_e} = F(Q_e) - c\\sqrt{C_e}, $$\n",
    "\tproposed by \\cite{Almeida2022} has been popular choices. See \\autoref{fig:GraphEvolution} for more details. It is important to note that in the simulations shown here, the initial network is a toy network. This can be improved by using any of the vascular network generated by any of the angiogenesis models discussed before."
   ]
  },
  {
   "cell_type": "markdown",
   "id": "f6834722-7ae8-46e1-8af6-56ad9ccfa3ec",
   "metadata": {},
   "source": [
    "\n",
    "![Time evolution of optimal transport network. A triangulation of a 2D domain is considered to be the graph over which we optimize the flow. The sink term is represented by green dot, while the sources are represented by yellow dots. Different sub-figures show the flow network at different time steps towards converging to the optimal configuration.](images/evolution.png){width=50%,fig-align=\"center\"}\n",
    "\n"
   ]
  },
  {
   "cell_type": "markdown",
   "id": "99d20ad1-ec5f-452c-806d-850c75bbbf3e",
   "metadata": {},
   "source": [
    "## Appendix"
   ]
  },
  {
   "cell_type": "markdown",
   "id": "1318c753-cd56-4470-a8d8-a2a6bc8ab5ad",
   "metadata": {},
   "source": [
    "For a graph, the Laplacian matrix contains the information on the in/out flow of stuff into the nodes.\n",
    "<p align=\"center\">\n",
    "    <img src=\"images/graph1.png\" alt=\"BARW\" width=\"400\" height=\"300\">\n",
    "</p>\n"
   ]
  },
  {
   "cell_type": "markdown",
   "id": "3227cc0f-18a3-483a-9cdc-8afab3f42e39",
   "metadata": {},
   "source": [
    "Then the Laplacian matrix is given by\n",
    "\t$$ D = \\begin{pmatrix}\n",
    "\t\t2 & 0 & 0 & 0 & 0 \\\\\n",
    "\t\t0 & 4 & 0 & 0 & 0 \\\\\n",
    "\t\t0 & 0 & 2 & 0 & 0 \\\\\n",
    "\t\t0 & 0 & 0 & 2 & 0 \\\\\n",
    "\t\t0 & 0 & 0 & 0 & 2\n",
    "\t\\end{pmatrix}, $$\n",
    "\tand the adjacency matrix  is given by\n",
    "\t$$ A = \\begin{pmatrix}\n",
    "\t\t0 & 1 & 1 & 0 & 0 \\\\\n",
    "\t\t1 & 0 & 1 & 1 & 1 \\\\\n",
    "\t\t1 & 1 & 0 & 0 & 0 \\\\\n",
    "\t\t0 & 1 & 0 & 0 & 1 \\\\\n",
    "\t\t0 & 1 & 0 & 1 & 0\n",
    "\t\\end{pmatrix}, $$\n",
    "\tand the Laplacian matrix is given by\n",
    "\t$$ L = D -A = \n",
    "\t\\begin{pmatrix}\n",
    "\t\t2 & -1 & -1 & 0 & 0 \\\\\n",
    "\t\t-1 & 4 & -1 & -1 & -1 \\\\\n",
    "\t\t-1 & -1 & 2 & 0 & 0 \\\\\n",
    "\t\t0 & -1 & 0 & 2 & -1 \\\\\n",
    "\t\t0 & -1 & 0 & -1 & 2\n",
    "\t\\end{pmatrix}.\n",
    "\t$$\n",
    "It is straight forward to generalize the notion of Laplacian matrix to the weighed graphs, where the degree matrix $ D $, the diagonal entries will be the sum of all weights of the edges connected to that node, and for the adjacency matrix, instead of zeros and ones, we will have the weights of the connections..\n",
    "\t\n",
    "There is also another way of finding the Laplacian matrix by using the notion of incidence matrix. To do so, we first need to make our graph to be directed. Any combination of the direction on the edges will do the job and will yield in a correct answer. For instance, consider the following directed graph"
   ]
  },
  {
   "cell_type": "markdown",
   "id": "193df266-5f85-4659-9d11-48a9e73011bc",
   "metadata": {},
   "source": [
    "For a graph, the Laplacian matrix contains the information on the in/out flow of stuff into the nodes.\n",
    "<p align=\"center\">\n",
    "    <img src=\"images/graph2.png\" alt=\"BARW\" width=\"400\" height=\"300\">\n",
    "</p>\n"
   ]
  },
  {
   "cell_type": "markdown",
   "id": "099eb981-35c7-4091-adfb-b3ea3451677a",
   "metadata": {},
   "source": [
    "Its incidence matrix will be\n",
    "\t$$\n",
    "\tM = \\begin{pmatrix}\n",
    "\t\t-1 & 1  & 0  & 0  & 0  & 0  \\\\\n",
    "\t\t0  & -1 & 1  & -1 & 0  & -1 \\\\\n",
    "\t\t1  & 0  & -1 & 0  & 0  & 0  \\\\\n",
    "\t\t0  & 0  & 0  & 1  & 1  & 0  \\\\\n",
    "\t\t0  & 0  & 0  & 0  & -1 & 1  \\\\\n",
    "\t\\end{pmatrix}\n",
    "\t$$\n",
    "\tThe Laplacian matrix can be written as\n",
    "\t$$ \\mathcal{L} = M M^T. $$\n",
    "\tNote that in the case of the weighed graphs, we will have\n",
    "\t$$ \\mathcal{L} = M W M^T \\tag{1}$$\n",
    "\twhere $ W $ is a diagonal matrix containing the weights. These computations can be done easily on the NetworkX. "
   ]
  },
  {
   "cell_type": "markdown",
   "id": "4b73b031-c340-4d88-be86-d4f5c909f634",
   "metadata": {},
   "source": [
    "The incidence matrix is also very useful in calculating the pressure difference between nodes of a particular edge. Let $\\Delta = M^T$. Then given the vector $P$ that contains the pressures on the vertices, then the pressure difference on the edges will be given by $\\Delta P$, where $\\Delta$ is the transpose of the incidence matrix. This comes in handy when we want to calculate the flow of the edges which will be given by\n",
    "$$ \\bf{Q} = \\bf{C} L^{-1} \\bf{\\Delta} \\bf{P}, \\tag{2} $$\n",
    "where $ C $ is a diagonal matrix of the conductance of the edges, $L$ is the diagonal matrix of the ``length'' of each edge, $\\Delta$ is the transpose of the incidence matrix, and $P$ is the pressure on the nodes. $Q$ is the flow of the edges. In this particular example we are assuming that the relation between flow and the pressure difference is $Q_e = C_e (p_i - p_j)/L$. But we can have many other choices.\n",
    "\t\n",
    "Knowing the sources and sinks on the nodes, the pressure can be determined by the Kirchhoff law\n",
    "\t$$ \\mathcal{L} \\bf{P} = \\bf{q}, $$\n",
    "where the vector $ q $ is the sources and the sinks values for each node. This is the same as solving the \\textbf{Poisson equation}. This can also be written in terms of the flow, i.e.\n",
    "\t$$ \\Delta^T \\bf{Q} = \\bf{q}. $$\n",
    "\tBy $ (2) $ we can write\n",
    "\t$$ (\\bf{\\Delta}^T \\bf{C}\\bf{L}^{-1}\\Delta) \\bf{P} = \\bf{q}. $$\n",
    "\tSince $ \\Delta = M^T $, the expression inside the parentheses is clearly Equation (1).\n",
    "\t\n",
    "Similar to the Poisson equation on the graph which is equivalent Kirchhoff's law, we can solve other types of heat and wave equations on the graph as well. The Laplacian matrix play a key role.\n",
    "$$ \\frac{\\partial p}{\\partial t} = - \\mathcal{L} p + q,  $$\n",
    "\tfor the heat equation, and\n",
    "$$ \\frac{\\partial^2 p}{\\partial t^2} = -\\mathcal{L}p + q, $$\n",
    "\tfor the wave equation."
   ]
  },
  {
   "cell_type": "markdown",
   "id": "6bc26e96-34af-431c-84f3-7b535f68bd15",
   "metadata": {},
   "source": [
    "## References"
   ]
  },
  {
   "cell_type": "code",
   "execution_count": null,
   "id": "1aa75011-0b16-4f25-b32c-79efe74c5f41",
   "metadata": {},
   "outputs": [],
   "source": []
  }
 ],
 "metadata": {
  "kernelspec": {
   "display_name": "Python 3 (ipykernel)",
   "language": "python",
   "name": "python3"
  },
  "language_info": {
   "codemirror_mode": {
    "name": "ipython",
    "version": 3
   },
   "file_extension": ".py",
   "mimetype": "text/x-python",
   "name": "python",
   "nbconvert_exporter": "python",
   "pygments_lexer": "ipython3",
   "version": "3.10.12"
  }
 },
 "nbformat": 4,
 "nbformat_minor": 5
}
