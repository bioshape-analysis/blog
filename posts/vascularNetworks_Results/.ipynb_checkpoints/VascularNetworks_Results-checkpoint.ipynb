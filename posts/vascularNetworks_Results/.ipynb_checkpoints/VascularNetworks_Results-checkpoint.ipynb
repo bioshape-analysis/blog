{
 "cells": [
  {
   "cell_type": "raw",
   "id": "683d2f78-2a94-4988-acc8-a3444522edc9",
   "metadata": {},
   "source": [
    "---\n",
    "title: \"Vascular Networks Results\"\n",
    "author: \"Ali Fele Paranj\"\n",
    "date: \"December 10 2024\"\n",
    "categories: [Graph theory, Vascular Networks]\n",
    "bibliography: references.bib\n",
    "---"
   ]
  },
  {
   "cell_type": "markdown",
   "id": "566595b5-b9b7-4faf-88f9-52871f27c245",
   "metadata": {},
   "source": [
    "# Results\n",
    "\n",
    "We have performed different goemetrical analysis and clustering methods on the loops tructure of the generated graphs by Branching-Annihilating-Random-Walker model. We need to highlight that assigning meaningful biological explanations was not the focus of this study.\n",
    "\n",
    "In summary, we did the following improvements to the model using the concepts that we learned in this course:\n",
    "* Enhanced Loop Detection Algorithms\n",
    "* Multiscale Loop Detection WorkFlow\n",
    "* Statistical Analysis of Loops\n",
    "* Loop Structure Clustering\n",
    "* Geometrical Analysis of Loops\n",
    "\n"
   ]
  },
  {
   "cell_type": "markdown",
   "id": "1801d2eb-9d95-4825-a232-7c70d72068ea",
   "metadata": {},
   "source": [
    "## Enhanced Loop Detection Algorithm\n",
    "\n",
    "Before, we used to generate .png images of the simulation result (see figures above) and then perform image analysis to detect loops. For instance we have convolving the image with 4-connectivity and 8-connectivity matrices to extract the graph structres present in the images. In the new approch, instead, we managed to record the structre of the network in a NetworkX datastructre. This is not easy task to perform without smart useage of the object oriented programming structure for the code. We organized our code into following classes"
   ]
  },
  {
   "cell_type": "markdown",
   "id": "b9ed7492-a782-45fe-8d45-16dc96b3e9f5",
   "metadata": {},
   "source": [
    "![](images/plantuml.svg)"
   ]
  },
  {
   "cell_type": "markdown",
   "id": "b330ccb1-7469-4f12-acba-2601bb21ea65",
   "metadata": {},
   "source": [
    "Using this structure, we can record the graph structure of the generated networks as a NetworkX dataframe. Then we can use some of the built-in functions of this library to get the loops (cycles) of the network. However, since the generated networks are large, finding all of the loops (of all scales) is computationally very costly. Instead, we first found a minimal set of cycles in the graph that forms a basis for the cycles space. I.e. we found the loops that can be combined (by symmetric difference) to generate new loops. The following figure shows the basis loops highlighted on the graph."
   ]
  },
  {
   "cell_type": "markdown",
   "id": "fe2b6ffb-eefe-4901-ad88-5c3f1f571a11",
   "metadata": {},
   "source": [
    "![](images/improvedDetection.png)"
   ]
  },
  {
   "cell_type": "markdown",
   "id": "95d57367-bc00-43f5-9f74-3ce17d2a38ce",
   "metadata": {},
   "source": [
    "As mentioned above, detected cycles are the basis cycles. The space of all cycles in a graph form a vector space and the basis cycles is a basis for that space. In other words, these cycles are all the cycles necessary to generate all of the cycles in the graph. The addition operation between two cycles is the symmetric difference of their edge set (or XOR of their edges). We can combined the basis cycles to generate higher level (and lower level) structure as shown below."
   ]
  },
  {
   "cell_type": "markdown",
   "id": "c214702e-714f-4a42-8c25-0f4ddb3cf4d5",
   "metadata": {},
   "source": [
    "![](images/multiScaleCycles.png)"
   ]
  },
  {
   "cell_type": "markdown",
   "id": "05d94db0-9d76-4419-81de-7ab8f8c3d5d7",
   "metadata": {},
   "source": [
    "We can also extract and scale all of the loops for further analysis. The following figure shows all the loops in the network"
   ]
  },
  {
   "cell_type": "markdown",
   "id": "24f85b90-8ce7-41d5-8e9b-a54745b4b59a",
   "metadata": {},
   "source": [
    "![](images/grid_basis.png)"
   ]
  },
  {
   "cell_type": "markdown",
   "id": "14160fb8-f30a-417f-99fc-eb5a398e769f",
   "metadata": {},
   "source": [
    "The following figures shows some of the loop strucgures that we can get by combining the loops above."
   ]
  },
  {
   "cell_type": "markdown",
   "id": "92652eef-bc4c-45e6-948f-f4d14b185d68",
   "metadata": {},
   "source": [
    "![](images/grid_Generated.png)"
   ]
  },
  {
   "cell_type": "markdown",
   "id": "54e8a189-38ce-4e5b-ad3f-43c24bbfdb53",
   "metadata": {},
   "source": [
    "## Statistical Analysis of Loops\n",
    "\n",
    "The mechanism that generated the vascular networks is an stochastic process (Branching process + Simple Radnom Walk process + local interactions (annihilation)). So we need to use statistical notions to make some observations. In the figure below, the histogram of the cycle length is plotted. The interesting observation is the fact that the number of cycles is exponentially distributed (with respect to the Cycle length). The slope of this line (on log-log plot) can reveal some very important facts about the universality class that our model belongs to. Not only this is very interesting and important from theoretical point of view, but also it can have very useful practical applications. For instance, in comparing the simulated network with real vascualr networks, this slope can be one of the components of comparison."
   ]
  },
  {
   "cell_type": "markdown",
   "id": "a6eda2cf-aa9c-471d-a309-29508e91b584",
   "metadata": {},
   "source": [
    "![](images/CountVsLengthLogLog.png)"
   ]
  },
  {
   "cell_type": "markdown",
   "id": "fd0848bb-b725-405d-82bd-2a2a1306a898",
   "metadata": {},
   "source": [
    "Furthremore, it is instructive to study the correlation matrix between some of the features of the loop. "
   ]
  },
  {
   "cell_type": "markdown",
   "id": "6fb5a5e4-7266-4a6e-9efd-f9e6b64188f4",
   "metadata": {},
   "source": [
    "![](images/FeatureCorrelationMatrix.png)"
   ]
  },
  {
   "cell_type": "markdown",
   "id": "bacdd9a2-1d12-48e6-ae56-fb4675c74c21",
   "metadata": {},
   "source": [
    "## Geometric Shape Analysis: Fréchet and Hausdorff Distances\n",
    "\n",
    "\n",
    "In geometric shape analysis, comparing cycles involves quantifying their similarity based on the spatial arrangement of points in each cycle. Two widely used measures for such comparisons are the **Fréchet Distance** and the **Hausdorff Distance**. These metrics provide different insights into the relationship between cycles, and their results can be visualized as heatmaps of pairwise distances.\n"
   ]
  },
  {
   "cell_type": "markdown",
   "id": "3f026db6-2550-4fd3-a19f-e977672b8b81",
   "metadata": {},
   "source": [
    "\n",
    "### Fréchet Distance\n",
    "\n",
    "The **Fréchet Distance** between two curves $ A = \\{a(t) \\mid t \\in [0,1]\\} $ and $ B = \\{b(t) \\mid t \\in [0,1]\\} $ is defined as:\n",
    "\n",
    "$$\n",
    "d_F(A, B) = \\inf_{\\alpha, \\beta} \\max_{t \\in [0,1]} \\| a(\\alpha(t)) - b(\\beta(t)) \\|,\n",
    "$$\n",
    "\n",
    "where:\n",
    "\n",
    "- $ \\alpha(t) $ and $ \\beta(t) $ are continuous, non-decreasing reparameterizations of the curves $ A $ and $ B $.\n",
    "- $ \\| \\cdot \\| $ denotes the Euclidean norm.\n",
    "- The infimum is taken over all possible parameterizations $ \\alpha $ and $ \\beta $.\n",
    "\n",
    "\n",
    "#### Interpretation of Heatmap\n",
    "\n",
    "The heatmap for the Fréchet distance shows the pairwise distances between all cycles. Each entry $ (i, j) $ in the heatmap represents $ d_F(C_i, C_j) $, the Fréchet distance between cycle $ C_i $ and cycle $ C_j $. Key insights include:\n",
    "\n",
    "- **Small Values:** Cycles with low Fréchet distances are geometrically similar in terms of overall shape and trajectory.\n",
    "- **Large Values:** Larger distances indicate significant differences in the geometry or shape of the cycles.\n",
    "\n",
    "The heatmap highlights clusters of similar cycles and outliers with unique geometries."
   ]
  },
  {
   "cell_type": "markdown",
   "id": "a2620b65-c498-4a9e-924f-139dd4ad39ac",
   "metadata": {},
   "source": [
    "![](images/FrechetDistance.png)"
   ]
  },
  {
   "cell_type": "markdown",
   "id": "bf5ff969-3516-453f-89e4-e0de9ac3f711",
   "metadata": {},
   "source": [
    "### Hausdorff Distance\n",
    "\n",
    "The **Hausdorff Distance** between two sets of points $ A $ and $ B $ is defined as:\n",
    "\n",
    "$$\n",
    "d_H(A, B) = \\max \\{ \\sup_{a \\in A} \\inf_{b \\in B} \\| a - b \\|, \\sup_{b \\in B} \\inf_{a \\in A} \\| b - a \\| \\}.\n",
    "$$\n",
    "\n",
    "This can be broken down into:\n",
    "\n",
    "- $ \\sup_{a \\in A} \\inf_{b \\in B} \\| a - b \\| $: The maximum distance from a point in $ A $ to the closest point in $ B $.\n",
    "- $ \\sup_{b \\in B} \\inf_{a \\in A} \\| b - a \\| $: The maximum distance from a point in $ B $ to the closest point in $ A $.\n",
    "\n",
    "The Hausdorff distance quantifies the greatest deviation between the two sets of points, considering how well one set covers the other.\n"
   ]
  },
  {
   "cell_type": "markdown",
   "id": "15a6642d-00df-4135-96c7-030bf2aaa6f2",
   "metadata": {},
   "source": [
    "\n",
    "### Interpretation of Heatmap\n",
    "\n",
    "The heatmap for the Hausdorff distance shows pairwise distances between cycles. Each entry $ (i, j) $ represents $ d_H(C_i, C_j) $, the Hausdorff distance between cycle $ C_i $ and cycle $ C_j $. Key insights include:\n",
    "\n",
    "- **Small Values:** Indicates that the points of one cycle are closely aligned with the points of another cycle.\n",
    "- **Large Values:** Reflects that one cycle has points significantly farther away from the other, suggesting geometric dissimilarity.\n",
    "\n",
    "The heatmap highlights cycles that are well-aligned (small distances) and those that are far apart in terms of shape.\n"
   ]
  },
  {
   "cell_type": "markdown",
   "id": "3460a030-f606-4dfe-b013-828020f99d6d",
   "metadata": {},
   "source": [
    "![](images/HausdorffDistance.png)"
   ]
  },
  {
   "cell_type": "markdown",
   "id": "2aaa0a44-50da-4755-a64a-cffb89f1d5be",
   "metadata": {},
   "source": [
    "### Comparison of Metrics\n",
    "\n",
    "- **Fréchet Distance:** Sensitive to the ordering of points along the curves, making it suitable for comparing trajectories or continuous shapes.\n",
    "- **Hausdorff Distance:** Ignores the order of points and focuses on the maximum deviation between sets, making it useful for analyzing shape coverage.\n",
    "\n",
    "Both metrics complement each other in analyzing the geometric properties of cycles. While the Fréchet distance emphasizes trajectory similarity, the Hausdorff distance focuses on the extent of shape overlap.\n"
   ]
  },
  {
   "cell_type": "markdown",
   "id": "61ec85f8-b661-43d3-bd6e-9661b0a75232",
   "metadata": {},
   "source": [
    "# Clustering"
   ]
  },
  {
   "cell_type": "markdown",
   "id": "1a282cba-6961-4c5b-b18a-85432111ed72",
   "metadata": {},
   "source": [
    "#### Features Used for Clustering\n",
    "For each cycle in the networks, the following features are extracted:\n",
    "\n",
    "* Length: Total length of the cycle, calculated as the sum of the lengths of all edges in the cycle.\n",
    "* Area: Enclosed area of the cycle, approximated using the Shoelace formula.\n",
    "* Compactness: Ratio of the area to the square of the perimeter (area/perimeter$^2$).\n",
    "* Centroid: The geometric center of the cycle, defined as the mean of the x- and y-coordinates of all points in the cycle.\n"
   ]
  },
  {
   "cell_type": "markdown",
   "id": "fb1e489b-9872-4bee-b98f-892a956fcf77",
   "metadata": {},
   "source": [
    "#### Principal Component Analysis (PCA)\n",
    " PCA is used for dimensionality reduction by projecting high-dimensional data onto a lower-dimensional subspace while preserving as much variance as possible. The original features (length, area, compactness, centroid) are normalized and reduced to two dimensions using PCA. The first two principal components capture the maximum variance in the data, allowing clustering methods to operate in a simplified feature space.\n",
    " \n",
    "* Interpretation: The axes in the PCA-reduced space represent linear combinations of the original features. Clusters in this space indicate groups of cycles with similar characteristics.\n"
   ]
  },
  {
   "cell_type": "markdown",
   "id": "71f9c08b-c775-43ab-81db-29cb1cf281e5",
   "metadata": {},
   "source": [
    "![](images/PCAClustering1.png)"
   ]
  },
  {
   "cell_type": "markdown",
   "id": "85b1d077-4a64-42b0-be3e-bea13b4fabda",
   "metadata": {},
   "source": [
    "# Feature Transformation and Dimensionality Reduction in Shape Analysis\n",
    "\n",
    "\n",
    "In analyzing geometric properties of cycles in networks, high-dimensional feature spaces often obscure relationships between cycles. This section describes the use of feature engineering and nonlinear dimensionality reduction techniques (**t-SNE** and **UMAP**) to uncover hidden patterns, simplify visualization, and enhance interpretability. The outputs are 2D visualizations that highlight structural and functional groupings within the data. The following composite features were derived:\n",
    "\n",
    "- **Area-to-Length Ratio:** Computed as $ \\frac{\\text{Area}}{\\text{Length}} $. This feature differentiates between compact cycles (high ratio) and elongated cycles (low ratio).\n",
    "- **Normalized Compactness:** Computed as $ \\frac{\\text{Compactness}}{\\text{Length}} $. This feature accounts for the relative efficiency of cycles in enclosing their area.\n"
   ]
  },
  {
   "cell_type": "markdown",
   "id": "1014bae2-b485-4e0e-8aed-c234c57696e8",
   "metadata": {},
   "source": [
    "\n",
    "## Dimensionality Reduction\n",
    "\n",
    "Nonlinear dimensionality reduction methods project high-dimensional data into a lower-dimensional space while preserving specific structural properties.\n",
    "\n",
    "### t-SNE (t-Distributed Stochastic Neighbor Embedding)\n",
    "\n",
    "**t-SNE** minimizes the divergence between probability distributions over pairwise distances in high-dimensional and low-dimensional spaces. It focuses on preserving local structures (relationships between nearby points) and is particularly effective at uncovering clusters. The key parameters are **Perplexity:** Controls the balance between local and global structure (default: 30), and **Output Dimension:** Reduced to 2D for visualization.\n",
    "\n",
    "\n"
   ]
  },
  {
   "cell_type": "markdown",
   "id": "8fc351d3-db9a-4b1e-86f2-0fa02f85254b",
   "metadata": {},
   "source": [
    "![Some notes to interpret the plot: that cycles forming tight clusters share strong similarities in features such as length, area, or compactness. Isolated points (outliers) indicate rare or unique geometries. t-SNE emphasizes local structures, making it ideal for detecting smaller, tightly-knit groups.](images/TSNECycles.png)"
   ]
  },
  {
   "cell_type": "markdown",
   "id": "3d04f4c8-e32c-4098-a409-d5343b5d95ac",
   "metadata": {},
   "source": [
    "\n",
    "### UMAP (Uniform Manifold Approximation and Projection)\n",
    "\n",
    "**UMAP** approximates the high-dimensional data manifold and optimally preserves both local and global structures. It provides more interpretable embeddings with smooth transitions between clusters. The key parameters are **Number of Neighbors:** Defines the size of the local neighborhood considered for embedding (default: 15), and **Output Dimension:** Reduced to 2D for visualization.\n",
    "\n"
   ]
  },
  {
   "cell_type": "markdown",
   "id": "6078bff6-3ef3-4d07-b86e-9f6499c2c5a6",
   "metadata": {},
   "source": [
    "![Some notes to interpret the plot: UMAP preserves both local and global structures, making it suitable for analyzing large-scale patterns. Transitions between clusters indicate gradual changes in feature space, useful for understanding progression or hierarchy in cycle characteristics. Dense clusters suggest strong feature alignment, while sparse areas highlight feature variability.\n",
    "](images/UMap.png)"
   ]
  },
  {
   "cell_type": "markdown",
   "id": "9c7a178f-ed54-4989-b0b9-4c5e61108426",
   "metadata": {},
   "source": [
    "### Conclusion\n",
    "\n",
    "We used a stochastic process (Branching Annihilating Random Walker) to generate some random networks (that resembes the vascular networks). Then we translated this structure to a networkX data frame for easier processing. We extracted the cycle basis for the cycle space of the graph and using the symmetric difference operation we generated new cycles (of different scales). Then performed different statistical and geometrical analysis on the shape of the loops in the graph. Also we calculated different features for the graph and used dimnsionality reduction methods to see if we can observe any structures (clusters) in low dimension."
   ]
  },
  {
   "cell_type": "markdown",
   "id": "99d20ad1-ec5f-452c-806d-850c75bbbf3e",
   "metadata": {},
   "source": [
    "## Appendix"
   ]
  },
  {
   "cell_type": "markdown",
   "id": "1318c753-cd56-4470-a8d8-a2a6bc8ab5ad",
   "metadata": {},
   "source": [
    "For a graph, the Laplacian matrix contains the information on the in/out flow of stuff into the nodes.\n",
    "<p align=\"center\">\n",
    "    <img src=\"images/graph1.png\" alt=\"BARW\" width=\"400\" height=\"300\">\n",
    "</p>\n"
   ]
  },
  {
   "cell_type": "markdown",
   "id": "3227cc0f-18a3-483a-9cdc-8afab3f42e39",
   "metadata": {},
   "source": [
    "Then the Laplacian matrix is given by\n",
    "\t$$ D = \\begin{pmatrix}\n",
    "\t\t2 & 0 & 0 & 0 & 0 \\\\\n",
    "\t\t0 & 4 & 0 & 0 & 0 \\\\\n",
    "\t\t0 & 0 & 2 & 0 & 0 \\\\\n",
    "\t\t0 & 0 & 0 & 2 & 0 \\\\\n",
    "\t\t0 & 0 & 0 & 0 & 2\n",
    "\t\\end{pmatrix}, $$\n",
    "\tand the adjacency matrix  is given by\n",
    "\t$$ A = \\begin{pmatrix}\n",
    "\t\t0 & 1 & 1 & 0 & 0 \\\\\n",
    "\t\t1 & 0 & 1 & 1 & 1 \\\\\n",
    "\t\t1 & 1 & 0 & 0 & 0 \\\\\n",
    "\t\t0 & 1 & 0 & 0 & 1 \\\\\n",
    "\t\t0 & 1 & 0 & 1 & 0\n",
    "\t\\end{pmatrix}, $$\n",
    "\tand the Laplacian matrix is given by\n",
    "\t$$ L = D -A = \n",
    "\t\\begin{pmatrix}\n",
    "\t\t2 & -1 & -1 & 0 & 0 \\\\\n",
    "\t\t-1 & 4 & -1 & -1 & -1 \\\\\n",
    "\t\t-1 & -1 & 2 & 0 & 0 \\\\\n",
    "\t\t0 & -1 & 0 & 2 & -1 \\\\\n",
    "\t\t0 & -1 & 0 & -1 & 2\n",
    "\t\\end{pmatrix}.\n",
    "\t$$\n",
    "It is straight forward to generalize the notion of Laplacian matrix to the weighed graphs, where the degree matrix $ D $, the diagonal entries will be the sum of all weights of the edges connected to that node, and for the adjacency matrix, instead of zeros and ones, we will have the weights of the connections..\n",
    "\t\n",
    "There is also another way of finding the Laplacian matrix by using the notion of incidence matrix. To do so, we first need to make our graph to be directed. Any combination of the direction on the edges will do the job and will yield in a correct answer. For instance, consider the following directed graph"
   ]
  },
  {
   "cell_type": "markdown",
   "id": "193df266-5f85-4659-9d11-48a9e73011bc",
   "metadata": {},
   "source": [
    "For a graph, the Laplacian matrix contains the information on the in/out flow of stuff into the nodes.\n",
    "<p align=\"center\">\n",
    "    <img src=\"images/graph2.png\" alt=\"BARW\" width=\"400\" height=\"300\">\n",
    "</p>\n"
   ]
  },
  {
   "cell_type": "markdown",
   "id": "099eb981-35c7-4091-adfb-b3ea3451677a",
   "metadata": {},
   "source": [
    "Its incidence matrix will be\n",
    "\t$$\n",
    "\tM = \\begin{pmatrix}\n",
    "\t\t-1 & 1  & 0  & 0  & 0  & 0  \\\\\n",
    "\t\t0  & -1 & 1  & -1 & 0  & -1 \\\\\n",
    "\t\t1  & 0  & -1 & 0  & 0  & 0  \\\\\n",
    "\t\t0  & 0  & 0  & 1  & 1  & 0  \\\\\n",
    "\t\t0  & 0  & 0  & 0  & -1 & 1  \\\\\n",
    "\t\\end{pmatrix}\n",
    "\t$$\n",
    "\tThe Laplacian matrix can be written as\n",
    "\t$$ \\mathcal{L} = M M^T. $$\n",
    "\tNote that in the case of the weighed graphs, we will have\n",
    "\t$$ \\mathcal{L} = M W M^T \\tag{1}$$\n",
    "\twhere $ W $ is a diagonal matrix containing the weights. These computations can be done easily on the NetworkX. "
   ]
  },
  {
   "cell_type": "markdown",
   "id": "4b73b031-c340-4d88-be86-d4f5c909f634",
   "metadata": {},
   "source": [
    "The incidence matrix is also very useful in calculating the pressure difference between nodes of a particular edge. Let $\\Delta = M^T$. Then given the vector $P$ that contains the pressures on the vertices, then the pressure difference on the edges will be given by $\\Delta P$, where $\\Delta$ is the transpose of the incidence matrix. This comes in handy when we want to calculate the flow of the edges which will be given by\n",
    "$$ \\bf{Q} = \\bf{C} L^{-1} \\bf{\\Delta} \\bf{P}, \\tag{2} $$\n",
    "where $ C $ is a diagonal matrix of the conductance of the edges, $L$ is the diagonal matrix of the ``length'' of each edge, $\\Delta$ is the transpose of the incidence matrix, and $P$ is the pressure on the nodes. $Q$ is the flow of the edges. In this particular example we are assuming that the relation between flow and the pressure difference is $Q_e = C_e (p_i - p_j)/L$. But we can have many other choices.\n",
    "\t\n",
    "Knowing the sources and sinks on the nodes, the pressure can be determined by the Kirchhoff law\n",
    "\t$$ \\mathcal{L} \\bf{P} = \\bf{q}, $$\n",
    "where the vector $ q $ is the sources and the sinks values for each node. This is the same as solving the \\textbf{Poisson equation}. This can also be written in terms of the flow, i.e.\n",
    "\t$$ \\Delta^T \\bf{Q} = \\bf{q}. $$\n",
    "\tBy $ (2) $ we can write\n",
    "\t$$ (\\bf{\\Delta}^T \\bf{C}\\bf{L}^{-1}\\Delta) \\bf{P} = \\bf{q}. $$\n",
    "\tSince $ \\Delta = M^T $, the expression inside the parentheses is clearly Equation (1).\n",
    "\t\n",
    "Similar to the Poisson equation on the graph which is equivalent Kirchhoff's law, we can solve other types of heat and wave equations on the graph as well. The Laplacian matrix play a key role.\n",
    "$$ \\frac{\\partial p}{\\partial t} = - \\mathcal{L} p + q,  $$\n",
    "\tfor the heat equation, and\n",
    "$$ \\frac{\\partial^2 p}{\\partial t^2} = -\\mathcal{L}p + q, $$\n",
    "\tfor the wave equation."
   ]
  },
  {
   "cell_type": "markdown",
   "id": "6bc26e96-34af-431c-84f3-7b535f68bd15",
   "metadata": {},
   "source": [
    "## References"
   ]
  },
  {
   "cell_type": "code",
   "execution_count": null,
   "id": "1aa75011-0b16-4f25-b32c-79efe74c5f41",
   "metadata": {},
   "outputs": [],
   "source": []
  }
 ],
 "metadata": {
  "kernelspec": {
   "display_name": "Python 3 (ipykernel)",
   "language": "python",
   "name": "python3"
  },
  "language_info": {
   "codemirror_mode": {
    "name": "ipython",
    "version": 3
   },
   "file_extension": ".py",
   "mimetype": "text/x-python",
   "name": "python",
   "nbconvert_exporter": "python",
   "pygments_lexer": "ipython3",
   "version": "3.10.12"
  }
 },
 "nbformat": 4,
 "nbformat_minor": 5
}
